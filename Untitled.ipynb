{
 "cells": [
  {
   "cell_type": "code",
   "execution_count": 1,
   "id": "feca08ed-b068-43a1-bba4-1d95c0076fad",
   "metadata": {},
   "outputs": [
    {
     "name": "stdout",
     "output_type": "stream",
     "text": [
      "   ID  Age  Gender Occupation  Sleep Hours  Physical Activity (hrs/week)  \\\n",
      "0   1   56  Female      Other          9.6                           8.3   \n",
      "1   2   46    Male    Teacher          6.4                           7.3   \n",
      "2   3   32  Female     Doctor          6.9                           1.0   \n",
      "3   4   60    Male     Doctor          9.2                           3.7   \n",
      "4   5   25    Male    Student          9.2                           2.5   \n",
      "\n",
      "   Caffeine Intake (mg/day)  Alcohol Consumption (drinks/week) Smoking  \\\n",
      "0                       175                                  6      No   \n",
      "1                        97                                  6      No   \n",
      "2                       467                                 14      No   \n",
      "3                       471                                 16      No   \n",
      "4                       364                                  2      No   \n",
      "\n",
      "  Family History of Anxiety  Stress Level (1-10)  \\\n",
      "0                        No                    4   \n",
      "1                        No                    3   \n",
      "2                        No                    2   \n",
      "3                       Yes                    6   \n",
      "4                       Yes                    7   \n",
      "\n",
      "   Heart Rate (bpm during attack)  Breathing Rate (breaths/min)  \\\n",
      "0                             145                            33   \n",
      "1                             143                            18   \n",
      "2                              60                            34   \n",
      "3                              94                            19   \n",
      "4                             152                            15   \n",
      "\n",
      "   Sweating Level (1-5) Dizziness Medication  Therapy Sessions (per month)  \\\n",
      "0                     3        No         No                             4   \n",
      "1                     5       Yes         No                             0   \n",
      "2                     1        No         No                             7   \n",
      "3                     1        No        Yes                             4   \n",
      "4                     4        No        Yes                             0   \n",
      "\n",
      "  Recent Major Life Event  Diet Quality (1-10)  \\\n",
      "0                     Yes                    9   \n",
      "1                      No                    9   \n",
      "2                     Yes                   10   \n",
      "3                     Yes                    5   \n",
      "4                      No                    1   \n",
      "\n",
      "   Severity of Anxiety Attack (1-10)  \n",
      "0                                 10  \n",
      "1                                  8  \n",
      "2                                  5  \n",
      "3                                  8  \n",
      "4                                  1  \n"
     ]
    }
   ],
   "source": [
    "import pandas as pd\n",
    "\n",
    "# Cargar el CSV en un DataFrame\n",
    "df = pd.read_csv(\"anxiety_attack_dataset.csv\")\n",
    "\n",
    "# Mostrar las primeras filas del archivo\n",
    "print(df.head())\n"
   ]
  },
  {
   "cell_type": "code",
   "execution_count": null,
   "id": "b3a74c9e-7211-45b2-be61-a088583cbbd0",
   "metadata": {},
   "outputs": [],
   "source": []
  }
 ],
 "metadata": {
  "kernelspec": {
   "display_name": "Python 3 (ipykernel)",
   "language": "python",
   "name": "python3"
  },
  "language_info": {
   "codemirror_mode": {
    "name": "ipython",
    "version": 3
   },
   "file_extension": ".py",
   "mimetype": "text/x-python",
   "name": "python",
   "nbconvert_exporter": "python",
   "pygments_lexer": "ipython3",
   "version": "3.12.8"
  }
 },
 "nbformat": 4,
 "nbformat_minor": 5
}
