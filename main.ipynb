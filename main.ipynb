{
 "cells": [
  {
   "cell_type": "markdown",
   "metadata": {},
   "source": [
    "## Data Preprocessing"
   ]
  },
  {
   "cell_type": "code",
   "execution_count": 3,
   "metadata": {},
   "outputs": [],
   "source": [
    "import pandas as pd"
   ]
  },
  {
   "cell_type": "code",
   "execution_count": 5,
   "metadata": {},
   "outputs": [],
   "source": [
    "# Run the data preprocessing notebook\n",
    "data = pd.read_csv('docs/anxiety_attack_dataset.csv')"
   ]
  },
  {
   "cell_type": "code",
   "execution_count": 20,
   "metadata": {},
   "outputs": [
    {
     "data": {
      "text/plain": [
       "False    12000\n",
       "Name: count, dtype: int64"
      ]
     },
     "execution_count": 20,
     "metadata": {},
     "output_type": "execute_result"
    }
   ],
   "source": [
    "# There are not duplicated rows in the dataset\n",
    "data.duplicated().value_counts()"
   ]
  },
  {
   "cell_type": "code",
   "execution_count": 23,
   "metadata": {},
   "outputs": [
    {
     "name": "stdout",
     "output_type": "stream",
     "text": [
      "ID\n",
      "False    12000\n",
      "Name: count, dtype: int64\n",
      " \n",
      "Age\n",
      "False    12000\n",
      "Name: count, dtype: int64\n",
      " \n",
      "Gender\n",
      "False    12000\n",
      "Name: count, dtype: int64\n",
      " \n",
      "Occupation\n",
      "False    12000\n",
      "Name: count, dtype: int64\n",
      " \n",
      "Sleep Hours\n",
      "False    12000\n",
      "Name: count, dtype: int64\n",
      " \n",
      "Physical Activity (hrs/week)\n",
      "False    12000\n",
      "Name: count, dtype: int64\n",
      " \n",
      "Caffeine Intake (mg/day)\n",
      "False    12000\n",
      "Name: count, dtype: int64\n",
      " \n",
      "Alcohol Consumption (drinks/week)\n",
      "False    12000\n",
      "Name: count, dtype: int64\n",
      " \n",
      "Smoking\n",
      "False    12000\n",
      "Name: count, dtype: int64\n",
      " \n",
      "Family History of Anxiety\n",
      "False    12000\n",
      "Name: count, dtype: int64\n",
      " \n",
      "Stress Level (1-10)\n",
      "False    12000\n",
      "Name: count, dtype: int64\n",
      " \n",
      "Heart Rate (bpm during attack)\n",
      "False    12000\n",
      "Name: count, dtype: int64\n",
      " \n",
      "Breathing Rate (breaths/min)\n",
      "False    12000\n",
      "Name: count, dtype: int64\n",
      " \n",
      "Sweating Level (1-5)\n",
      "False    12000\n",
      "Name: count, dtype: int64\n",
      " \n",
      "Dizziness\n",
      "False    12000\n",
      "Name: count, dtype: int64\n",
      " \n",
      "Medication\n",
      "False    12000\n",
      "Name: count, dtype: int64\n",
      " \n",
      "Therapy Sessions (per month)\n",
      "False    12000\n",
      "Name: count, dtype: int64\n",
      " \n",
      "Recent Major Life Event\n",
      "False    12000\n",
      "Name: count, dtype: int64\n",
      " \n",
      "Diet Quality (1-10)\n",
      "False    12000\n",
      "Name: count, dtype: int64\n",
      " \n",
      "Severity of Anxiety Attack (1-10)\n",
      "False    12000\n",
      "Name: count, dtype: int64\n",
      " \n"
     ]
    }
   ],
   "source": [
    "# There are not Na's in the data\n",
    "for column in data:\n",
    "    print(data[column].isna().value_counts())\n",
    "    print(\" \")\n"
   ]
  },
  {
   "cell_type": "code",
   "execution_count": null,
   "metadata": {},
   "outputs": [],
   "source": []
  }
 ],
 "metadata": {
  "kernelspec": {
   "display_name": "MSE446",
   "language": "python",
   "name": "mse446"
  },
  "language_info": {
   "codemirror_mode": {
    "name": "ipython",
    "version": 3
   },
   "file_extension": ".py",
   "mimetype": "text/x-python",
   "name": "python",
   "nbconvert_exporter": "python",
   "pygments_lexer": "ipython3",
   "version": "3.11.11"
  }
 },
 "nbformat": 4,
 "nbformat_minor": 4
}
