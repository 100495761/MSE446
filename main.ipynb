{
 "cells": [
  {
   "cell_type": "markdown",
   "metadata": {},
   "source": [
    "## Data Preprocessing"
   ]
  },
  {
   "cell_type": "code",
   "execution_count": 1,
   "metadata": {},
   "outputs": [],
   "source": [
    "import pandas as pd\n",
    "import numpy as np\n",
    "import matplotlib.pyplot as plt\n",
    "import seaborn as sns\n",
    "from sklearn.preprocessing import StandardScaler"
   ]
  },
  {
   "cell_type": "code",
   "execution_count": 3,
   "metadata": {},
   "outputs": [],
   "source": [
    "# Run the data preprocessing notebook\n",
    "data = pd.read_csv('docs/anxiety_attack_dataset.csv')"
   ]
  },
  {
   "cell_type": "code",
   "execution_count": 51,
   "metadata": {},
   "outputs": [
    {
     "data": {
      "text/plain": [
       "False    12000\n",
       "Name: count, dtype: int64"
      ]
     },
     "execution_count": 51,
     "metadata": {},
     "output_type": "execute_result"
    }
   ],
   "source": [
    "# There are not duplicated rows in the dataset\n",
    "data.duplicated().value_counts()"
   ]
  },
  {
   "cell_type": "code",
   "execution_count": 52,
   "metadata": {},
   "outputs": [
    {
     "name": "stdout",
     "output_type": "stream",
     "text": [
      "ID\n",
      "False    12000\n",
      "Name: count, dtype: int64\n",
      " \n",
      "Age\n",
      "False    12000\n",
      "Name: count, dtype: int64\n",
      " \n",
      "Gender\n",
      "False    12000\n",
      "Name: count, dtype: int64\n",
      " \n",
      "Occupation\n",
      "False    12000\n",
      "Name: count, dtype: int64\n",
      " \n",
      "Sleep Hours\n",
      "False    12000\n",
      "Name: count, dtype: int64\n",
      " \n",
      "Physical Activity (hrs/week)\n",
      "False    12000\n",
      "Name: count, dtype: int64\n",
      " \n",
      "Caffeine Intake (mg/day)\n",
      "False    12000\n",
      "Name: count, dtype: int64\n",
      " \n",
      "Alcohol Consumption (drinks/week)\n",
      "False    12000\n",
      "Name: count, dtype: int64\n",
      " \n",
      "Smoking\n",
      "False    12000\n",
      "Name: count, dtype: int64\n",
      " \n",
      "Family History of Anxiety\n",
      "False    12000\n",
      "Name: count, dtype: int64\n",
      " \n",
      "Stress Level (1-10)\n",
      "False    12000\n",
      "Name: count, dtype: int64\n",
      " \n",
      "Heart Rate (bpm during attack)\n",
      "False    12000\n",
      "Name: count, dtype: int64\n",
      " \n",
      "Breathing Rate (breaths/min)\n",
      "False    12000\n",
      "Name: count, dtype: int64\n",
      " \n",
      "Sweating Level (1-5)\n",
      "False    12000\n",
      "Name: count, dtype: int64\n",
      " \n",
      "Dizziness\n",
      "False    12000\n",
      "Name: count, dtype: int64\n",
      " \n",
      "Medication\n",
      "False    12000\n",
      "Name: count, dtype: int64\n",
      " \n",
      "Therapy Sessions (per month)\n",
      "False    12000\n",
      "Name: count, dtype: int64\n",
      " \n",
      "Recent Major Life Event\n",
      "False    12000\n",
      "Name: count, dtype: int64\n",
      " \n",
      "Diet Quality (1-10)\n",
      "False    12000\n",
      "Name: count, dtype: int64\n",
      " \n",
      "Severity of Anxiety Attack (1-10)\n",
      "False    12000\n",
      "Name: count, dtype: int64\n",
      " \n"
     ]
    }
   ],
   "source": [
    "# There are not Na's in the data\n",
    "for column in data:\n",
    "    print(data[column].isna().value_counts())\n",
    "    print(\" \")\n"
   ]
  },
  {
   "cell_type": "markdown",
   "metadata": {},
   "source": [
    "## Data preprocesing columns 10-14"
   ]
  },
  {
   "cell_type": "code",
   "execution_count": 4,
   "metadata": {},
   "outputs": [
    {
     "name": "stdout",
     "output_type": "stream",
     "text": [
      "We replace the values of the Family History of Anxiety feature with 1 for Yes and 0 for No\n",
      "\n",
      " Class imbalance for the Dizziness feature\n",
      "Family History of Anxiety\n",
      "0    0.59825\n",
      "1    0.40175\n",
      "Name: proportion, dtype: float64\n",
      "We can see that the classes are more or less balanced\n"
     ]
    }
   ],
   "source": [
    "# Family History of Anxiety (Yes/No)\n",
    "print(\"We replace the values of the Family History of Anxiety feature with 1 for Yes and 0 for No\")\n",
    "# Simpler way to convert Yes/No to 1/0\n",
    "data[\"Family History of Anxiety\"] = data[\"Family History of Anxiety\"].map({\"Yes\": 1, \"No\": 0})\n",
    "\n",
    "# Obviously, there are no outliers for this feature, nor there is need for normalization\n",
    "\n",
    "# Check for class imbalance\n",
    "print(\"\\n Class imbalance for the Dizziness feature\")\n",
    "print(data[\"Family History of Anxiety\"].value_counts(normalize=True))\n",
    "print(\"We can see that the classes are more or less balanced\")"
   ]
  },
  {
   "cell_type": "code",
   "execution_count": 10,
   "metadata": {},
   "outputs": [
    {
     "name": "stdout",
     "output_type": "stream",
     "text": [
      "The distribution of the Stress Level (1-10) feature\n",
      "count    1.200000e+04\n",
      "mean    -1.059893e-16\n",
      "std      1.000042e+00\n",
      "min     -1.405108e+00\n",
      "25%     -6.981058e-01\n",
      "50%      8.896445e-03\n",
      "75%      7.158987e-01\n",
      "max      1.422901e+00\n",
      "Name: Stress Level (1-10), dtype: float64\n",
      "\n",
      " We check for class imbalance in the Diet Quality (1-10) feature\n",
      "Stress Level (1-10)\n",
      "-1.405108    0.202417\n",
      "-0.698106    0.202083\n",
      " 0.715899    0.199667\n",
      " 0.008896    0.198500\n",
      " 1.422901    0.197333\n",
      "Name: proportion, dtype: float64\n",
      "We can see that the classes are completely balanced\n"
     ]
    }
   ],
   "source": [
    "# Stress Level (1-10) (Numerical variable)\n",
    "# We check the distribution of the variable\n",
    "print(\"The distribution of the Stress Level (1-10) feature\")\n",
    "print(data[\"Stress Level (1-10)\"].describe())\n",
    "\n",
    "# There are no outliers in the Stress Level (1-10) feature since all values go from 1 to 10\n",
    "\n",
    "# Check class imbalance\n",
    "print(\"\\n We check for class imbalance in the Diet Quality (1-10) feature\")\n",
    "print(data[\"Stress Level (1-10)\"].value_counts(normalize=True))\n",
    "print(\"We can see that the classes are completely balanced\")\n",
    "\n",
    "# Normalize the variable\n",
    "data[\"Stress Level (1-10)\"] = StandardScaler().fit_transform(data[[\"Stress Level (1-10)\"]])"
   ]
  },
  {
   "cell_type": "code",
   "execution_count": 11,
   "metadata": {},
   "outputs": [
    {
     "data": {
      "image/png": "[encoded data removed]",
      "text/plain": [
       "<Figure size 1000x500 with 1 Axes>"
      ]
     },
     "metadata": {},
     "output_type": "display_data"
    },
    {
     "name": "stdout",
     "output_type": "stream",
     "text": [
      "Number of outliers in 'Heart Rate (bpm during attack)': 0\n"
     ]
    }
   ],
   "source": [
    "# Boxplot for Heart Rate (bpm during attack)\n",
    "plt.figure(figsize=(10, 5))\n",
    "sns.boxplot(x=data[\"Heart Rate (bpm during attack)\"])\n",
    "plt.title(\"Boxplot for Heart Rate (bpm during attack)\")\n",
    "plt.show()\n",
    "\n",
    "# Detect outliers using IQR\n",
    "def detect_and_handle_outliers(column):\n",
    "    Q1 = data[column].quantile(0.25)\n",
    "    Q3 = data[column].quantile(0.75)\n",
    "    IQR = Q3 - Q1\n",
    "    lower_bound = Q1 - 1.5 * IQR\n",
    "    upper_bound = Q3 + 1.5 * IQR\n",
    "\n",
    "    # Detect outliers\n",
    "    outliers = data[(data[column] < lower_bound) | (data[column] > upper_bound)]\n",
    "    print(f\"Number of outliers in '{column}': {len(outliers)}\")\n",
    "\n",
    "    # Handle outliers by clipping\n",
    "    data[column] = data[column].clip(lower_bound, upper_bound)\n",
    "\n",
    "\n",
    "detect_and_handle_outliers(\"Heart Rate (bpm during attack)\")\n",
    "\n",
    "# Initialize scaler\n",
    "scaler = StandardScaler()\n",
    "\n",
    "# Normalize Heart Rate\n",
    "data[\"Heart Rate (bpm during attack)\"] = scaler.fit_transform(data[[\"Heart Rate (bpm during attack)\"]])"
   ]
  },
  {
   "cell_type": "code",
   "execution_count": 12,
   "metadata": {},
   "outputs": [
    {
     "data": {
      "image/png": "[encoded data removed]",
      "text/plain": [
       "<Figure size 1000x500 with 1 Axes>"
      ]
     },
     "metadata": {},
     "output_type": "display_data"
    },
    {
     "name": "stdout",
     "output_type": "stream",
     "text": [
      "Number of outliers in 'Breathing Rate (breaths/min)': 0\n"
     ]
    }
   ],
   "source": [
    "# Boxplot for Breathing Rate (breaths/min)\n",
    "plt.figure(figsize=(10, 5))\n",
    "sns.boxplot(x=data[\"Breathing Rate (breaths/min)\"])\n",
    "plt.title(\"Boxplot for Breathing Rate (breaths/min)\")\n",
    "plt.show()\n",
    "\n",
    "# Detect outliers using IQR\n",
    "detect_and_handle_outliers(\"Breathing Rate (breaths/min)\")\n",
    "\n",
    "# Normalize Heart Rate\n",
    "data[\"Breathing Rate (breaths/min)\"] = scaler.fit_transform(data[[\"Breathing Rate (breaths/min)\"]])"
   ]
  },
  {
   "cell_type": "code",
   "execution_count": 13,
   "metadata": {},
   "outputs": [
    {
     "name": "stdout",
     "output_type": "stream",
     "text": [
      "The distribution of the Sweating Level (1-5) feature\n",
      "count    12000.000000\n",
      "mean         2.987417\n",
      "std          1.414482\n",
      "min          1.000000\n",
      "25%          2.000000\n",
      "50%          3.000000\n",
      "75%          4.000000\n",
      "max          5.000000\n",
      "Name: Sweating Level (1-5), dtype: float64\n",
      "\n",
      " We check for class imbalance in the Diet Quality (1-10) feature\n",
      "Sweating Level (1-5)\n",
      "1    0.202417\n",
      "2    0.202083\n",
      "4    0.199667\n",
      "3    0.198500\n",
      "5    0.197333\n",
      "Name: proportion, dtype: float64\n",
      "We can see that the classes are completely balanced\n"
     ]
    }
   ],
   "source": [
    "# Sweating Level (1-5) (Numerical variable)\n",
    "# We check the distribution of the variable\n",
    "print(\"The distribution of the Sweating Level (1-5) feature\")\n",
    "print(data[\"Sweating Level (1-5)\"].describe())\n",
    "\n",
    "# There are no outliers in the Sweating Level (1-5) feature since all values go from 1 to 10\n",
    "\n",
    "# Check class imbalance\n",
    "print(\"\\n We check for class imbalance in the Diet Quality (1-10) feature\")\n",
    "print(data[\"Sweating Level (1-5)\"].value_counts(normalize=True))\n",
    "print(\"We can see that the classes are completely balanced\")\n",
    "\n",
    "# Normalize the variable\n",
    "data[\"Sweating Level (1-5)\"] = StandardScaler().fit_transform(data[[\"Sweating Level (1-5)\"]])"
   ]
  }
 ],
 "metadata": {
  "kernelspec": {
   "display_name": "Python 3",
   "language": "python",
   "name": "python3"
  },
  "language_info": {
   "codemirror_mode": {
    "name": "ipython",
    "version": 3
   },
   "file_extension": ".py",
   "mimetype": "text/x-python",
   "name": "python",
   "nbconvert_exporter": "python",
   "pygments_lexer": "ipython3",
   "version": "3.13.0"
  }
 },
 "nbformat": 4,
 "nbformat_minor": 4
}
