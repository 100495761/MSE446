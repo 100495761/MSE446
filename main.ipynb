{
 "cells": [
  {
   "cell_type": "markdown",
   "metadata": {},
   "source": [
    "## Data Preprocessing"
   ]
  },
  {
   "cell_type": "code",
   "execution_count": 35,
   "metadata": {},
   "outputs": [],
   "source": [
    "import pandas as pd"
   ]
  },
  {
   "cell_type": "code",
   "execution_count": 36,
   "metadata": {},
   "outputs": [],
   "source": [
    "# Run the data preprocessing notebook\n",
    "data = pd.read_csv('docs/anxiety_attack_dataset.csv')"
   ]
  },
  {
   "cell_type": "code",
   "execution_count": 37,
   "metadata": {},
   "outputs": [
    {
     "data": {
      "text/plain": [
       "False    12000\n",
       "Name: count, dtype: int64"
      ]
     },
     "execution_count": 37,
     "metadata": {},
     "output_type": "execute_result"
    }
   ],
   "source": [
    "# There are not duplicated rows in the dataset\n",
    "data.duplicated().value_counts()"
   ]
  },
  {
   "cell_type": "code",
   "execution_count": 38,
   "metadata": {},
   "outputs": [
    {
     "name": "stdout",
     "output_type": "stream",
     "text": [
      "ID\n",
      "False    12000\n",
      "Name: count, dtype: int64\n",
      " \n",
      "Age\n",
      "False    12000\n",
      "Name: count, dtype: int64\n",
      " \n",
      "Gender\n",
      "False    12000\n",
      "Name: count, dtype: int64\n",
      " \n",
      "Occupation\n",
      "False    12000\n",
      "Name: count, dtype: int64\n",
      " \n",
      "Sleep Hours\n",
      "False    12000\n",
      "Name: count, dtype: int64\n",
      " \n",
      "Physical Activity (hrs/week)\n",
      "False    12000\n",
      "Name: count, dtype: int64\n",
      " \n",
      "Caffeine Intake (mg/day)\n",
      "False    12000\n",
      "Name: count, dtype: int64\n",
      " \n",
      "Alcohol Consumption (drinks/week)\n",
      "False    12000\n",
      "Name: count, dtype: int64\n",
      " \n",
      "Smoking\n",
      "False    12000\n",
      "Name: count, dtype: int64\n",
      " \n",
      "Family History of Anxiety\n",
      "False    12000\n",
      "Name: count, dtype: int64\n",
      " \n",
      "Stress Level (1-10)\n",
      "False    12000\n",
      "Name: count, dtype: int64\n",
      " \n",
      "Heart Rate (bpm during attack)\n",
      "False    12000\n",
      "Name: count, dtype: int64\n",
      " \n",
      "Breathing Rate (breaths/min)\n",
      "False    12000\n",
      "Name: count, dtype: int64\n",
      " \n",
      "Sweating Level (1-5)\n",
      "False    12000\n",
      "Name: count, dtype: int64\n",
      " \n",
      "Dizziness\n",
      "False    12000\n",
      "Name: count, dtype: int64\n",
      " \n",
      "Medication\n",
      "False    12000\n",
      "Name: count, dtype: int64\n",
      " \n",
      "Therapy Sessions (per month)\n",
      "False    12000\n",
      "Name: count, dtype: int64\n",
      " \n",
      "Recent Major Life Event\n",
      "False    12000\n",
      "Name: count, dtype: int64\n",
      " \n",
      "Diet Quality (1-10)\n",
      "False    12000\n",
      "Name: count, dtype: int64\n",
      " \n",
      "Severity of Anxiety Attack (1-10)\n",
      "False    12000\n",
      "Name: count, dtype: int64\n",
      " \n"
     ]
    }
   ],
   "source": [
    "# There are not Na's in the data\n",
    "for column in data:\n",
    "    print(data[column].isna().value_counts())\n",
    "    print(\" \")\n"
   ]
  },
  {
   "cell_type": "markdown",
   "metadata": {},
   "source": [
    "#### Diego's preprocessing"
   ]
  },
  {
   "cell_type": "code",
   "execution_count": 39,
   "metadata": {},
   "outputs": [
    {
     "name": "stdout",
     "output_type": "stream",
     "text": [
      "We replace the values of the Dizziness feature with 1 for Yes and 0 for No\n",
      " \n",
      "Class imbalance for the Dizziness feature\n",
      "Dizziness\n",
      "0    0.7005\n",
      "1    0.2995\n",
      "Name: proportion, dtype: float64\n",
      "We can see that the classes are more or less balanced\n"
     ]
    },
    {
     "name": "stderr",
     "output_type": "stream",
     "text": [
      "/tmp/ipykernel_8501/226695829.py:4: FutureWarning: Downcasting behavior in `replace` is deprecated and will be removed in a future version. To retain the old behavior, explicitly call `result.infer_objects(copy=False)`. To opt-in to the future behavior, set `pd.set_option('future.no_silent_downcasting', True)`\n",
      "  data['Dizziness'] = data['Dizziness'].replace('No', 0)\n"
     ]
    }
   ],
   "source": [
    "# Dizinness (Yes/No)\n",
    "print(\"We replace the values of the Dizziness feature with 1 for Yes and 0 for No\")\n",
    "data['Dizziness'] = data['Dizziness'].replace('Yes', 1)\n",
    "data['Dizziness'] = data['Dizziness'].replace('No', 0)\n",
    "\n",
    "# Obviously, there are no outliers for this feature, nor there is need for normalization\n",
    "\n",
    "# Check for class imbalance\n",
    "print(\" \")\n",
    "print(\"Class imbalance for the Dizziness feature\")\n",
    "print(data['Dizziness'].value_counts(normalize=True))\n",
    "print(\"We can see that the classes are more or less balanced\")"
   ]
  },
  {
   "cell_type": "code",
   "execution_count": 40,
   "metadata": {},
   "outputs": [
    {
     "name": "stdout",
     "output_type": "stream",
     "text": [
      "We replace the values of the Medication feature with 1 for Yes and 0 for No\n",
      " \n",
      "Class imbalance for the Medication feature\n",
      "Medication\n",
      "0    0.800417\n",
      "1    0.199583\n",
      "Name: proportion, dtype: float64\n",
      "We can see that the classes are more or less balanced\n"
     ]
    },
    {
     "name": "stderr",
     "output_type": "stream",
     "text": [
      "/tmp/ipykernel_8501/1091502321.py:4: FutureWarning: Downcasting behavior in `replace` is deprecated and will be removed in a future version. To retain the old behavior, explicitly call `result.infer_objects(copy=False)`. To opt-in to the future behavior, set `pd.set_option('future.no_silent_downcasting', True)`\n",
      "  data['Medication'] = data['Medication'].replace('No', 0)\n"
     ]
    }
   ],
   "source": [
    "# Medication (Yes(No)\n",
    "print(\"We replace the values of the Medication feature with 1 for Yes and 0 for No\")\n",
    "data['Medication'] = data['Medication'].replace('Yes', 1)\n",
    "data['Medication'] = data['Medication'].replace('No', 0)\n",
    "\n",
    "# Obviously, there are no outliers for this feature, nor there is need for normalization\n",
    "\n",
    "# Check for class imbalance\n",
    "print(\" \")\n",
    "print(\"Class imbalance for the Medication feature\")\n",
    "print(data['Medication'].value_counts(normalize=True))\n",
    "print(\"We can see that the classes are more or less balanced\")"
   ]
  },
  {
   "cell_type": "code",
   "execution_count": 41,
   "metadata": {},
   "outputs": [
    {
     "name": "stdout",
     "output_type": "stream",
     "text": [
      "The distribution of the Therapy Sessions (per month) feature\n",
      "count    12000.000000\n",
      "mean         4.518417\n",
      "std          2.866010\n",
      "min          0.000000\n",
      "25%          2.000000\n",
      "50%          5.000000\n",
      "75%          7.000000\n",
      "max          9.000000\n",
      "Name: Therapy Sessions (per month), dtype: float64\n",
      " \n",
      "We check for outliers in the Therapy Sessions (per month) feature\n"
     ]
    },
    {
     "data": {
      "image/png": "[encoded data removed]",
      "text/plain": [
       "<Figure size 1000x500 with 2 Axes>"
      ]
     },
     "metadata": {},
     "output_type": "display_data"
    },
    {
     "name": "stdout",
     "output_type": "stream",
     "text": [
      "2.0\n",
      "7.0\n"
     ]
    }
   ],
   "source": [
    "# Therapy Sessions (per month) (numerical variable)\n",
    "# We check the distribution of the variable\n",
    "print(\"The distribution of the Therapy Sessions (per month) feature\")\n",
    "print(data['Therapy Sessions (per month)'].describe())\n",
    "\n",
    "# Check outliers\n",
    "print(\" \")\n",
    "print(\"We check for outliers in the Therapy Sessions (per month) feature\")\n",
    "\n",
    "# boxplot and histogram \n",
    "import matplotlib.pyplot as plt\n",
    "plt.figure(figsize=(10, 5))\n",
    "plt.subplot(1, 2, 1)\n",
    "data['Therapy Sessions (per month)'].plot(kind='box')\n",
    "plt.subplot(1, 2, 2)\n",
    "data['Therapy Sessions (per month)'].plot(kind='hist')\n",
    "plt.show()\n",
    "\n",
    "print(data['Therapy Sessions (per month)'].quantile(0.25))\n",
    "print(data['Therapy Sessions (per month)'].quantile(0.75))\n",
    "\n",
    "# There are no outliers in the Therapy Sessions (per month) feature\n",
    "\n",
    "# Normalize the variable\n",
    "data['Therapy Sessions (per month)'] = (data['Therapy Sessions (per month)'] - data['Therapy Sessions (per month)'].mean()) / data['Therapy Sessions (per month)'].std()"
   ]
  },
  {
   "cell_type": "code",
   "execution_count": 42,
   "metadata": {},
   "outputs": [
    {
     "name": "stdout",
     "output_type": "stream",
     "text": [
      "We replace the values of the Recent Major Life Event feature with 1 for Yes and 0 for No\n",
      " \n",
      "Class imbalance for the Recent Major Life Event feature\n",
      "Recent Major Life Event\n",
      "0    0.7545\n",
      "1    0.2455\n",
      "Name: proportion, dtype: float64\n",
      "We can see that the classes are more or less balanced\n"
     ]
    },
    {
     "name": "stderr",
     "output_type": "stream",
     "text": [
      "/tmp/ipykernel_8501/2421506985.py:4: FutureWarning: Downcasting behavior in `replace` is deprecated and will be removed in a future version. To retain the old behavior, explicitly call `result.infer_objects(copy=False)`. To opt-in to the future behavior, set `pd.set_option('future.no_silent_downcasting', True)`\n",
      "  data['Recent Major Life Event'] = data['Recent Major Life Event'].replace('No', 0)\n"
     ]
    }
   ],
   "source": [
    "# Recent Major Life Event (Yes/No)\n",
    "print(\"We replace the values of the Recent Major Life Event feature with 1 for Yes and 0 for No\")\n",
    "data['Recent Major Life Event'] = data['Recent Major Life Event'].replace('Yes', 1)\n",
    "data['Recent Major Life Event'] = data['Recent Major Life Event'].replace('No', 0)\n",
    "\n",
    "# Obviously, there are no outliers for this feature, nor there is need for normalization\n",
    "\n",
    "# Check for class imbalance\n",
    "print(\" \")\n",
    "print(\"Class imbalance for the Recent Major Life Event feature\")\n",
    "print(data['Recent Major Life Event'].value_counts(normalize=True))\n",
    "print(\"We can see that the classes are more or less balanced\")"
   ]
  },
  {
   "cell_type": "code",
   "execution_count": null,
   "metadata": {},
   "outputs": [
    {
     "name": "stdout",
     "output_type": "stream",
     "text": [
      "The distribution of the Diet quality (1-10) feature\n",
      "count    12000.000000\n",
      "mean         5.497333\n",
      "std          2.867579\n",
      "min          1.000000\n",
      "25%          3.000000\n",
      "50%          5.000000\n",
      "75%          8.000000\n",
      "max         10.000000\n",
      "Name: Diet Quality (1-10), dtype: float64\n",
      " \n",
      "We check for class imbalance in the Diet Quality (1-10) feature\n",
      "Diet Quality (1-10)\n",
      "2     0.103667\n",
      "5     0.102417\n",
      "3     0.102083\n",
      "6     0.101500\n",
      "10    0.101250\n",
      "8     0.099000\n",
      "9     0.098417\n",
      "7     0.098167\n",
      "4     0.097250\n",
      "1     0.096250\n",
      "Name: proportion, dtype: float64\n",
      "We can see that the classes are completely balanced\n"
     ]
    }
   ],
   "source": [
    "# Diet quality (1-10) (Numerical variable)\n",
    "# We check the distribution of the variable\n",
    "print(\"The distribution of the Diet quality (1-10) feature\")\n",
    "print(data['Diet Quality (1-10)'].describe())\n",
    "\n",
    "# There are no outliers in the Diet Quality (1-10) feature since all values go from 1 to 10\n",
    "\n",
    "# Check class imbalance\n",
    "print(\" \")\n",
    "print(\"We check for class imbalance in the Diet Quality (1-10) feature\")\n",
    "print(data['Diet Quality (1-10)'].value_counts(normalize=True))\n",
    "print(\"We can see that the classes are completely balanced\")\n",
    "\n",
    "# Normalize the variable\n",
    "data['Diet Quality (1-10)'] = (data['Diet Quality (1-10)'] - data['Diet Quality (1-10)'].mean()) / data['Diet Quality (1-10)'].std()"
   ]
  }
 ],
 "metadata": {
  "kernelspec": {
   "display_name": "MSE446",
   "language": "python",
   "name": "python3"
  },
  "language_info": {
   "codemirror_mode": {
    "name": "ipython",
    "version": 3
   },
   "file_extension": ".py",
   "mimetype": "text/x-python",
   "name": "python",
   "nbconvert_exporter": "python",
   "pygments_lexer": "ipython3",
   "version": "3.12.8"
  }
 },
 "nbformat": 4,
 "nbformat_minor": 4
}
